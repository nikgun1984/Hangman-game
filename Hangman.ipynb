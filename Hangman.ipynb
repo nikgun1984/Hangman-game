{
 "cells": [
  {
   "cell_type": "code",
   "execution_count": null,
   "metadata": {
    "scrolled": true
   },
   "outputs": [
    {
     "name": "stdout",
     "output_type": "stream",
     "text": [
      "10 correct guesses left\n",
      "7 incorrect guesses left\n",
      "The word is 10 letters long\n",
      "_ _ _ _ _ _ _ _ _ _ \n"
     ]
    }
   ],
   "source": [
    "import random\n",
    "from IPython.display import clear_output\n",
    "\n",
    "words_list = (\"camera\", \"programming\", \"headphones\", \"laptop\", \"notebook\")\n",
    "\n",
    "another_list = []\n",
    "\n",
    "def main():\n",
    "    chosen_word = random.choice(words_list) # chooses random word from list\n",
    "    word = ['_'] * len(chosen_word) # replaces each character of the hidden word with underscores\n",
    "    \n",
    "    correct_guesses = ''.join(word).count('_')\n",
    "    incorrect_guesses = 7\n",
    "    # comment\n",
    "    while True:\n",
    "        print(correct_guesses, \"correct guesses left\")\n",
    "        print(incorrect_guesses, \"incorrect guesses left\")\n",
    "#         print(f\"Debugger: this word is [{chosen_word}]\")\n",
    "        print(f\"The word is {len(chosen_word)} letters long\")\n",
    "        print(''.join([i + ' ' for i in word]))\n",
    "        \n",
    "        if incorrect_guesses == 0: # if you lose\n",
    "            print(f\"You lose. The word was {chosen_word}\")\n",
    "            break\n",
    "        if correct_guesses == 0: # if you win\n",
    "            restart = input(\"You win! Play again? Y/n \")\n",
    "            if restart.lower() == 'n':\n",
    "                break\n",
    "            elif restart.lower() == 'y':\n",
    "                main()\n",
    "                \n",
    "        letter = input(\"Choose a letter \")\n",
    "        if letter.lower() == 'done':\n",
    "            break\n",
    "        if letter in chosen_word:\n",
    "            clear_output()\n",
    "            print(f\"{letter} has been found\")\n",
    "            for i, j in enumerate(chosen_word):\n",
    "                if j is letter:\n",
    "                    word[i] = letter\n",
    "            correct_guesses = ''.join(word).count('_')\n",
    "        else:\n",
    "            print(f\"{letter} is incorrect. Try again!\")\n",
    "            incorrect_guesses-=1\n",
    "            \n",
    "main()"
   ]
  }
 ],
 "metadata": {
  "kernelspec": {
   "display_name": "Python 3",
   "language": "python",
   "name": "python3"
  },
  "language_info": {
   "codemirror_mode": {
    "name": "ipython",
    "version": 3
   },
   "file_extension": ".py",
   "mimetype": "text/x-python",
   "name": "python",
   "nbconvert_exporter": "python",
   "pygments_lexer": "ipython3",
   "version": "3.7.0"
  }
 },
 "nbformat": 4,
 "nbformat_minor": 2
}